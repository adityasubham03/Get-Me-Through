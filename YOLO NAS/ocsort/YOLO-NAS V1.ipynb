{
 "cells": [
  {
   "cell_type": "code",
   "execution_count": 7,
   "id": "6e8593a1",
   "metadata": {},
   "outputs": [
    {
     "name": "stdout",
     "output_type": "stream",
     "text": [
      "Requirement already satisfied: fastcore in c:\\users\\adwai\\anaconda3\\envs\\tf\\lib\\site-packages (1.5.29)\n",
      "Requirement already satisfied: pip in c:\\users\\adwai\\anaconda3\\envs\\tf\\lib\\site-packages (from fastcore) (23.2.1)\n",
      "Requirement already satisfied: packaging in c:\\users\\adwai\\anaconda3\\envs\\tf\\lib\\site-packages (from fastcore) (23.0)\n"
     ]
    }
   ],
   "source": [
    "# sketchy fix for \"https://stackoverflow.com/questions/73711994/importerror-cannot-import-name-is-directory-from-pil-util-usr-local-lib\"\n",
    "!pip install fastcore -U"
   ]
  },
  {
   "cell_type": "code",
   "execution_count": 10,
   "id": "9df2d651",
   "metadata": {},
   "outputs": [],
   "source": [
    "# supergradients installs\n",
    "# ! pip install torch==1.11.0+cu113 torchvision==0.12.0+cu113 torchaudio==0.11.0 --extra-index-url https://download.pytorch.org/whl/cu113\n",
    "# ! pip install super-gradients\n",
    "# ! pip install pytorch-quantization==2.1.2 --extra-index-url https://pypi.ngc.nvidia.com \n",
    "# ! pip install matplotlib==3.1.3 \n",
    "# ! pip install --upgrade psutil==5.9.2 \n",
    "# ! pip install --upgrade pillow==7.1.2 "
   ]
  },
  {
   "cell_type": "code",
   "execution_count": 12,
   "id": "612a9826",
   "metadata": {},
   "outputs": [
    {
     "name": "stdout",
     "output_type": "stream",
     "text": [
      "Requirement already satisfied: filterpy in c:\\users\\adwai\\anaconda3\\envs\\tf\\lib\\site-packages (1.4.5)\n",
      "Requirement already satisfied: numpy in c:\\users\\adwai\\anaconda3\\envs\\tf\\lib\\site-packages (from filterpy) (1.23.0)\n",
      "Requirement already satisfied: scipy in c:\\users\\adwai\\anaconda3\\envs\\tf\\lib\\site-packages (from filterpy) (1.11.1)\n",
      "Requirement already satisfied: matplotlib in c:\\users\\adwai\\anaconda3\\envs\\tf\\lib\\site-packages (from filterpy) (3.7.2)\n",
      "Requirement already satisfied: contourpy>=1.0.1 in c:\\users\\adwai\\anaconda3\\envs\\tf\\lib\\site-packages (from matplotlib->filterpy) (1.1.0)\n",
      "Requirement already satisfied: cycler>=0.10 in c:\\users\\adwai\\anaconda3\\envs\\tf\\lib\\site-packages (from matplotlib->filterpy) (0.11.0)\n",
      "Requirement already satisfied: fonttools>=4.22.0 in c:\\users\\adwai\\anaconda3\\envs\\tf\\lib\\site-packages (from matplotlib->filterpy) (4.42.0)\n",
      "Requirement already satisfied: kiwisolver>=1.0.1 in c:\\users\\adwai\\anaconda3\\envs\\tf\\lib\\site-packages (from matplotlib->filterpy) (1.4.4)\n",
      "Requirement already satisfied: packaging>=20.0 in c:\\users\\adwai\\anaconda3\\envs\\tf\\lib\\site-packages (from matplotlib->filterpy) (23.0)\n",
      "Requirement already satisfied: pillow>=6.2.0 in c:\\users\\adwai\\anaconda3\\envs\\tf\\lib\\site-packages (from matplotlib->filterpy) (10.0.0)\n",
      "Requirement already satisfied: pyparsing<3.1,>=2.3.1 in c:\\users\\adwai\\anaconda3\\envs\\tf\\lib\\site-packages (from matplotlib->filterpy) (2.4.5)\n",
      "Requirement already satisfied: python-dateutil>=2.7 in c:\\users\\adwai\\anaconda3\\envs\\tf\\lib\\site-packages (from matplotlib->filterpy) (2.8.2)\n",
      "Requirement already satisfied: importlib-resources>=3.2.0 in c:\\users\\adwai\\anaconda3\\envs\\tf\\lib\\site-packages (from matplotlib->filterpy) (6.0.1)\n",
      "Requirement already satisfied: zipp>=3.1.0 in c:\\users\\adwai\\anaconda3\\envs\\tf\\lib\\site-packages (from importlib-resources>=3.2.0->matplotlib->filterpy) (3.11.0)\n",
      "Requirement already satisfied: six>=1.5 in c:\\users\\adwai\\anaconda3\\envs\\tf\\lib\\site-packages (from python-dateutil>=2.7->matplotlib->filterpy) (1.16.0)\n",
      "Requirement already satisfied: pytube in c:\\users\\adwai\\anaconda3\\envs\\tf\\lib\\site-packages (15.0.0)\n",
      "Requirement already satisfied: moviepy in c:\\users\\adwai\\anaconda3\\envs\\tf\\lib\\site-packages (1.0.3)\n",
      "Requirement already satisfied: decorator<5.0,>=4.0.2 in c:\\users\\adwai\\anaconda3\\envs\\tf\\lib\\site-packages (from moviepy) (4.4.2)\n",
      "Requirement already satisfied: tqdm<5.0,>=4.11.2 in c:\\users\\adwai\\anaconda3\\envs\\tf\\lib\\site-packages (from moviepy) (4.66.1)\n",
      "Requirement already satisfied: requests<3.0,>=2.8.1 in c:\\users\\adwai\\anaconda3\\envs\\tf\\lib\\site-packages (from moviepy) (2.31.0)\n",
      "Requirement already satisfied: proglog<=1.0.0 in c:\\users\\adwai\\anaconda3\\envs\\tf\\lib\\site-packages (from moviepy) (0.1.10)\n",
      "Requirement already satisfied: numpy>=1.17.3 in c:\\users\\adwai\\anaconda3\\envs\\tf\\lib\\site-packages (from moviepy) (1.23.0)\n",
      "Requirement already satisfied: imageio<3.0,>=2.5 in c:\\users\\adwai\\anaconda3\\envs\\tf\\lib\\site-packages (from moviepy) (2.31.1)\n",
      "Requirement already satisfied: imageio-ffmpeg>=0.2.0 in c:\\users\\adwai\\anaconda3\\envs\\tf\\lib\\site-packages (from moviepy) (0.4.8)\n",
      "Requirement already satisfied: pillow>=8.3.2 in c:\\users\\adwai\\anaconda3\\envs\\tf\\lib\\site-packages (from imageio<3.0,>=2.5->moviepy) (10.0.0)\n",
      "Requirement already satisfied: charset-normalizer<4,>=2 in c:\\users\\adwai\\anaconda3\\envs\\tf\\lib\\site-packages (from requests<3.0,>=2.8.1->moviepy) (2.0.4)\n",
      "Requirement already satisfied: idna<4,>=2.5 in c:\\users\\adwai\\anaconda3\\envs\\tf\\lib\\site-packages (from requests<3.0,>=2.8.1->moviepy) (3.4)\n",
      "Requirement already satisfied: urllib3<3,>=1.21.1 in c:\\users\\adwai\\anaconda3\\envs\\tf\\lib\\site-packages (from requests<3.0,>=2.8.1->moviepy) (1.26.16)\n",
      "Requirement already satisfied: certifi>=2017.4.17 in c:\\users\\adwai\\anaconda3\\envs\\tf\\lib\\site-packages (from requests<3.0,>=2.8.1->moviepy) (2023.7.22)\n",
      "Requirement already satisfied: colorama in c:\\users\\adwai\\anaconda3\\envs\\tf\\lib\\site-packages (from tqdm<5.0,>=4.11.2->moviepy) (0.4.6)\n",
      "Requirement already satisfied: ffmpeg in c:\\users\\adwai\\anaconda3\\envs\\tf\\lib\\site-packages (1.4)\n"
     ]
    }
   ],
   "source": [
    "!pip install filterpy\n",
    "!pip install pytube\n",
    "!pip install moviepy\n",
    "!pip install ffmpeg\n",
    "\n",
    "# bug fix for imageio-ffmpeg\n",
    "# !pip install imageio==2.4.1"
   ]
  },
  {
   "cell_type": "code",
   "execution_count": null,
   "id": "663452b5",
   "metadata": {},
   "outputs": [],
   "source": []
  }
 ],
 "metadata": {
  "kernelspec": {
   "display_name": "Python 3 (ipykernel)",
   "language": "python",
   "name": "python3"
  },
  "language_info": {
   "codemirror_mode": {
    "name": "ipython",
    "version": 3
   },
   "file_extension": ".py",
   "mimetype": "text/x-python",
   "name": "python",
   "nbconvert_exporter": "python",
   "pygments_lexer": "ipython3",
   "version": "3.9.17"
  }
 },
 "nbformat": 4,
 "nbformat_minor": 5
}
